{
 "cells": [
  {
   "cell_type": "code",
   "execution_count": 150,
   "metadata": {},
   "outputs": [
    {
     "name": "stdout",
     "output_type": "stream",
     "text": [
      "Hari ke -  1\n",
      "Budi Pergi ke sekolah Budi Tidak Berangkat Sekolah\n",
      "Budi Tidak Berangkat Sekolah\n",
      "Budi Tidak Berangkat Sekolah\n",
      "Hari ke -  2\n",
      "Budi Pergi ke sekolah Budi Tidak Berangkat Sekolah\n",
      "Budi Tidak Berangkat Sekolah\n",
      "Budi Tidak Berangkat Sekolah\n",
      "Hari ke -  3\n",
      "Budi Tidak Berangkat Sekolah\n",
      "Budi Tidak Berangkat Sekolah\n",
      "Budi Tidak Berangkat Sekolah\n",
      "Budi Tidak Berangkat Sekolah\n",
      "Hari ke -  4\n",
      "Budi Pergi ke sekolah Budi Tidak Berangkat Sekolah\n",
      "Budi Tidak Berangkat Sekolah\n",
      "Budi Tidak Berangkat Sekolah\n",
      "Hari ke -  5\n",
      "Budi Pergi ke sekolah Budi Tidak Berangkat Sekolah\n",
      "Budi Tidak Berangkat Sekolah\n",
      "Budi Tidak Berangkat Sekolah\n",
      "Hari ke -  6\n",
      "Budi Pergi ke sekolah Budi Tidak Berangkat Sekolah\n",
      "Budi Tidak Berangkat Sekolah\n",
      "Budi Tidak Berangkat Sekolah\n",
      "Hari ke -  7\n",
      "Budi Tidak Berangkat Sekolah\n",
      "Budi Tidak Berangkat Sekolah\n",
      "Budi Tidak Berangkat Sekolah\n",
      "Budi Tidak Berangkat Sekolah\n"
     ]
    }
   ],
   "source": [
    "dict1 = {'uang_budi':0,'uang_jajan':30000,'Ongkos':10000,'Uang_Kas':5000}\n",
    "\n",
    "for i in range(7):\n",
    "  print('Hari ke - ',i+1)\n",
    " \n",
    "\n",
    "  for j in range(len(dict1)):\n",
    "    if (j==0)and((i+1)!=3)and((i+1)!=7):\n",
    "      print('Budi Pergi ke sekolah',end =' ')\n",
    "      dict1['uang_budi'] = dict1['uang_budi']+dict1['uang_jajan']\n",
    "      dict1['uang_budi'] = dict1['uang_budi']-dict1['Ongkos']-dict1['Uang_Kas'] \n",
    "    else:\n",
    "      print('Budi Tidak Berangkat Sekolah')\n",
    "\n",
    "\n",
    "      "
   ]
  },
  {
   "cell_type": "code",
   "execution_count": 20,
   "metadata": {},
   "outputs": [
    {
     "name": "stdout",
     "output_type": "stream",
     "text": [
      "* * * * * * * \n",
      "\n",
      "Total Bintang =  7\n"
     ]
    }
   ],
   "source": [
    "bintang = 0\n",
    "\n",
    "for i in range(7):\n",
    "    print('*',end = ' ')\n",
    "    bintang = bintang + 1\n",
    "    \n",
    "print('\\n')\n",
    "print('Total Bintang = ', bintang)"
   ]
  },
  {
   "cell_type": "code",
   "execution_count": 41,
   "metadata": {},
   "outputs": [
    {
     "name": "stdout",
     "output_type": "stream",
     "text": [
      "Hari ke -  1\n",
      "saya telah membeli 1 semangka !\n",
      "jumlah semangka =  1\n",
      "jumlah apel =  3\n",
      "jumlah anggur =  6\n",
      "\n",
      "\n",
      "Hari ke -  2\n",
      "saya telah membeli 1 semangka !\n",
      "jumlah semangka =  2\n",
      "jumlah apel =  6\n",
      "jumlah anggur =  12\n",
      "\n",
      "\n",
      "Hari ke -  3\n",
      "saya telah membeli 1 semangka !\n",
      "jumlah semangka =  3\n",
      "jumlah apel =  9\n",
      "jumlah anggur =  18\n",
      "\n",
      "\n",
      "Hari ke -  4\n",
      "saya telah membeli 1 semangka !\n",
      "jumlah semangka =  4\n",
      "jumlah apel =  12\n",
      "jumlah anggur =  24\n",
      "\n",
      "\n",
      "Hari ke -  5\n",
      "saya telah membeli 1 semangka !\n",
      "jumlah semangka =  5\n",
      "jumlah apel =  15\n",
      "jumlah anggur =  30\n",
      "\n",
      "\n"
     ]
    }
   ],
   "source": [
    "semangka = 0\n",
    "apel = 0\n",
    "anggur = 0\n",
    "\n",
    "for i in range(5):\n",
    "    print('Hari ke - ',i+1)\n",
    "    print('saya telah membeli 1 semangka !')\n",
    "    semangka = semangka+1\n",
    "    apel = 3*semangka\n",
    "    anggur = 2*apel\n",
    "    \n",
    "    print('jumlah semangka = ',semangka)\n",
    "    print('jumlah apel = ',apel)\n",
    "    print('jumlah anggur = ',anggur)\n",
    "    print('\\n')"
   ]
  },
  {
   "cell_type": "code",
   "execution_count": 45,
   "metadata": {},
   "outputs": [
    {
     "name": "stdout",
     "output_type": "stream",
     "text": [
      "Hari ke -  1\n",
      "saya memakan 3 kue\n",
      "sisa kue =  97\n",
      "\n",
      "\n",
      "Hari ke -  2\n",
      "saya memakan 3 kue\n",
      "sisa kue =  94\n",
      "\n",
      "\n",
      "Hari ke -  3\n",
      "saya memakan 3 kue\n",
      "sisa kue =  91\n",
      "\n",
      "\n",
      "Hari ke -  4\n",
      "saya memakan 3 kue\n",
      "sisa kue =  88\n",
      "\n",
      "\n",
      "Hari ke -  5\n",
      "saya memakan 3 kue\n",
      "sisa kue =  85\n",
      "\n",
      "\n",
      "Hari ke -  6\n",
      "saya memakan 3 kue\n",
      "sisa kue =  82\n",
      "\n",
      "\n",
      "Hari ke -  7\n",
      "saya memakan 3 kue\n",
      "sisa kue =  79\n",
      "\n",
      "\n",
      "Hari ke -  8\n",
      "saya memakan 3 kue\n",
      "sisa kue =  76\n",
      "\n",
      "\n",
      "Hari ke -  9\n",
      "saya memakan 3 kue\n",
      "sisa kue =  73\n",
      "\n",
      "\n",
      "Hari ke -  10\n",
      "saya memakan 3 kue\n",
      "sisa kue =  70\n",
      "\n",
      "\n",
      "Hari ke -  11\n",
      "saya memakan 3 kue\n",
      "sisa kue =  67\n",
      "\n",
      "\n",
      "Hari ke -  12\n",
      "saya memakan 3 kue\n",
      "sisa kue =  64\n",
      "\n",
      "\n",
      "Hari ke -  13\n",
      "saya memakan 3 kue\n",
      "sisa kue =  61\n",
      "\n",
      "\n"
     ]
    }
   ],
   "source": [
    "kue = 100\n",
    "\n",
    "for i in range(13):\n",
    "    print('Hari ke - ',i+1)\n",
    "    print('saya memakan 3 kue')\n",
    "    kue = kue-3\n",
    "    \n",
    "    print('sisa kue = ',kue)\n",
    "    print('\\n')"
   ]
  },
  {
   "cell_type": "code",
   "execution_count": 98,
   "metadata": {},
   "outputs": [
    {
     "name": "stdout",
     "output_type": "stream",
     "text": [
      "hari ke -  1\n",
      "di makan 3\n",
      "sisa kue =  97\n"
     ]
    }
   ],
   "source": [
    "Kue = 100\n",
    "\n",
    "for i in range(Kue>=51):\n",
    "    print('hari ke - ',i+1)\n",
    "    print('di makan 3')\n",
    "    Kue = Kue-3\n",
    "    \n",
    "    print('sisa kue = ',Kue)"
   ]
  },
  {
   "cell_type": "code",
   "execution_count": 97,
   "metadata": {},
   "outputs": [
    {
     "name": "stdout",
     "output_type": "stream",
     "text": [
      "total hari =  16\n"
     ]
    }
   ],
   "source": [
    "kue = 100\n",
    "hari = 0\n",
    "kenyang = 0\n",
    "\n",
    "while(kue >= 51):\n",
    "    kue = kue - 1\n",
    "    kenyang = kenyang +1\n",
    "    \n",
    "    if (kenyang==3):\n",
    "        hari = hari + 1\n",
    "        kenyang = 0\n",
    "print('total hari = ',hari)"
   ]
  },
  {
   "cell_type": "code",
   "execution_count": 129,
   "metadata": {},
   "outputs": [
    {
     "name": "stdout",
     "output_type": "stream",
     "text": [
      "sisa singa =  181\n",
      "sisa peluru =  21\n",
      "jumlah tembakan dari singa terakhir =  3\n"
     ]
    }
   ],
   "source": [
    "peluru = 100\n",
    "singa = 200\n",
    "nembak = 0\n",
    "\n",
    "while(peluru>21): #selama pelurunya diatas 21\n",
    "    peluru  = peluru - 1\n",
    "    nembak = nembak + 1\n",
    "    \n",
    "    if(nembak==4):\n",
    "        singa = singa - 1 #singa mati\n",
    "        nembak = 0\n",
    "    \n",
    "    \n",
    "print('sisa singa = ',singa)\n",
    "print('sisa peluru = ',peluru)\n",
    "print('jumlah tembakan dari singa terakhir = ',nembak)\n"
   ]
  },
  {
   "cell_type": "code",
   "execution_count": 158,
   "metadata": {},
   "outputs": [
    {
     "name": "stdout",
     "output_type": "stream",
     "text": [
      "sisa singa =  188\n",
      "sisa peluru =  52\n"
     ]
    }
   ],
   "source": [
    "peluru = 100\n",
    "singa = 200\n",
    "mati = 0\n",
    "\n",
    "while(mati != 12):\n",
    "    mati  = mati + 1\n",
    "    singa = singa - 1\n",
    "    peluru = peluru - 4\n",
    "    \n",
    "    \n",
    "print('sisa singa = ',singa)\n",
    "print('sisa peluru = ',peluru)"
   ]
  },
  {
   "cell_type": "code",
   "execution_count": null,
   "metadata": {},
   "outputs": [],
   "source": []
  }
 ],
 "metadata": {
  "kernelspec": {
   "display_name": "Python 3.11.0 64-bit",
   "language": "python",
   "name": "python3"
  },
  "language_info": {
   "codemirror_mode": {
    "name": "ipython",
    "version": 3
   },
   "file_extension": ".py",
   "mimetype": "text/x-python",
   "name": "python",
   "nbconvert_exporter": "python",
   "pygments_lexer": "ipython3",
   "version": "3.11.0"
  },
  "orig_nbformat": 4,
  "vscode": {
   "interpreter": {
    "hash": "318f2c383d48220c821fefd227250c35bb828f95042f5889a5ad1704b1baf79c"
   }
  }
 },
 "nbformat": 4,
 "nbformat_minor": 2
}
